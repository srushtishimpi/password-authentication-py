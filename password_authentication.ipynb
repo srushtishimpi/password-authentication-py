{
 "cells": [
  {
   "cell_type": "markdown",
   "id": "977eebe5-1b13-44c2-a2dc-e792f8491250",
   "metadata": {},
   "source": [
    "# Implementing Password Authentication in Python\n",
    "---\n",
    "### [By Srushti Shimpi](https://github.com/srushtishimpi)\n",
    "\n",
    "---\n",
    "\n",
    "## Introduction\n",
    "\n",
    "Password authentication is a fundamental mechanism to verify a user’s identity and restrict access to authorized individuals only. Modern applications require users to enter correct login credentials—usually a username and password—to gain access. This article demonstrates how to implement a password authentication system in Python that **repeatedly requests the username and password until the correct credentials are provided**, enhancing user experience and security.\n",
    "\n",
    "---\n",
    "\n",
    "## What is a Password Authentication System?\n",
    "\n",
    "A password authentication system acts as a gatekeeper, allowing access only to users who provide valid credentials. For example, when logging into social media or email platforms, you are prompted for a username and password. If these details match stored records, access is granted.\n",
    "\n",
    "Building such logic is a common coding interview exercise and an essential programming skill. Here, we walk through a Python implementation of a continuous authentication system that repeatedly prompts for credentials until authentication is successful.\n",
    "\n",
    "---\n",
    "\n",
    "## Step-by-Step Guide to Continuous Password Authentication in Python\n",
    "\n",
    "### 1. Define User Credentials\n",
    "\n",
    "Create a dictionary mapping usernames to their corresponding passwords.\n",
    "\n",
    "### 2. Repeatedly Request Username and Password\n",
    "\n",
    "Use an infinite loop to prompt the user to enter **both** username and password every time the authentication fails.\n",
    "\n",
    "### 3. Securely Collect Password Input\n",
    "\n",
    "Use the `getpass` module to accept password input securely without displaying it on the screen.\n",
    "\n",
    "### 4. Implement Authentication Logic\n",
    "\n",
    "Verify if the entered username exists and the password matches. If credentials are correct, exit the loop; otherwise, prompt the user to try again.\n",
    "\n",
    "---"
   ]
  },
  {
   "cell_type": "code",
   "execution_count": 1,
   "id": "f97bdf71-ff5b-4df9-a1cc-743166e5cb55",
   "metadata": {},
   "outputs": [],
   "source": [
    "import getpass"
   ]
  },
  {
   "cell_type": "markdown",
   "id": "53e06df3-d686-435e-9a5d-002e1752611c",
   "metadata": {},
   "source": [
    "### 1. Define User Credentials\n"
   ]
  },
  {
   "cell_type": "code",
   "execution_count": 2,
   "id": "bdca90f2-2668-4ba9-a904-13af77b306ec",
   "metadata": {},
   "outputs": [],
   "source": [
    "user_credentials = {'john_doe': 'secure123', 'jane_smith': 'pass456'}"
   ]
  },
  {
   "cell_type": "markdown",
   "id": "398780de-0a8d-4e50-89bc-177d7267fa23",
   "metadata": {},
   "source": [
    "### Step 2: Prompt for username"
   ]
  },
  {
   "cell_type": "code",
   "execution_count": 3,
   "id": "1dbb1562-c730-4e30-ae1b-4f8de1d40506",
   "metadata": {},
   "outputs": [
    {
     "name": "stdin",
     "output_type": "stream",
     "text": [
      "Enter your username:  jane\n"
     ]
    }
   ],
   "source": [
    "username = input(\"Enter your username: \")"
   ]
  },
  {
   "cell_type": "markdown",
   "id": "926d4b0f-b683-4959-a461-1ea92076c2da",
   "metadata": {},
   "source": [
    "### Step 3: Prompt for password securely"
   ]
  },
  {
   "cell_type": "code",
   "execution_count": 5,
   "id": "a2a82328-3003-478a-81f5-20f581a3b801",
   "metadata": {},
   "outputs": [
    {
     "name": "stdin",
     "output_type": "stream",
     "text": [
      "Enter your password:  ········\n"
     ]
    }
   ],
   "source": [
    "password = getpass.getpass(\"Enter your password: \")"
   ]
  },
  {
   "cell_type": "markdown",
   "id": "8e26afbe-02d0-4d7a-86e5-d99c2f2e7d78",
   "metadata": {},
   "source": [
    "### Step 4: Authentication logic"
   ]
  },
  {
   "cell_type": "code",
   "execution_count": 6,
   "id": "41cd75ca-053b-447b-84d4-f43670bdc2fa",
   "metadata": {},
   "outputs": [
    {
     "name": "stdout",
     "output_type": "stream",
     "text": [
      "\n",
      "Incorrect password. Please try again.\n",
      "\n",
      "=== Login Required ===\n"
     ]
    },
    {
     "name": "stdin",
     "output_type": "stream",
     "text": [
      "Enter your username:  jane_smith\n",
      "Enter your password:  ········\n"
     ]
    },
    {
     "name": "stdout",
     "output_type": "stream",
     "text": [
      "\n",
      "Authentication successful. Access granted.\n"
     ]
    }
   ],
   "source": [
    "#Loop until correct credentials are entered\n",
    "authenticated = False  # Flag to track authentication status\n",
    "\n",
    "while not authenticated:\n",
    "    # Prompt the user for username and password\n",
    "    print(\"\\nIncorrect password. Please try again.\\n\")\n",
    "    print(\"=== Login Required ===\")\n",
    "    username = input(\"Enter your username: \")\n",
    "    password = getpass.getpass(\"Enter your password: \")\n",
    "\n",
    "    # Check if the username exists and password matches\n",
    "    if username in user_credentials:\n",
    "        if user_credentials[username] == password:\n",
    "            print(\"\\nAuthentication successful. Access granted.\")\n",
    "            authenticated = True  # Set flag to True to exit loop\n",
    "        else:\n",
    "            print(\"\\nIncorrect password. Please try again.\\n\")\n",
    "    else:\n",
    "        print(\"\\nUsername not found. Please try again.\\n\")"
   ]
  },
  {
   "cell_type": "markdown",
   "id": "6c62d1ef-0151-4609-b3bc-879ef7f57408",
   "metadata": {},
   "source": [
    "\n",
    "## Conclusion\n",
    "\n",
    "This example demonstrates an effective method to continuously authenticate users in Python until valid credentials are provided. Using the `getpass` module ensures password inputs remain hidden, enhancing security.\n",
    "\n",
    "For real-world applications, consider additional security enhancements such as:\n",
    "\n",
    "- **Password hashing** with libraries like `bcrypt`\n",
    "- **Limiting login attempts** to prevent brute-force attacks\n",
    "- **Integrating with databases** for scalable user management\n",
    "- **Implementing multi-factor authentication (MFA)**\n",
    "\n",
    "This basic continuous authentication system provides a strong foundation for learning and can be extended for more robust applications.\n",
    "\n",
    "---"
   ]
  },
  {
   "cell_type": "markdown",
   "id": "b683b730-3230-450c-bf27-142db10a9814",
   "metadata": {},
   "source": [
    "# END"
   ]
  }
 ],
 "metadata": {
  "kernelspec": {
   "display_name": "Python 3 (ipykernel)",
   "language": "python",
   "name": "python3"
  },
  "language_info": {
   "codemirror_mode": {
    "name": "ipython",
    "version": 3
   },
   "file_extension": ".py",
   "mimetype": "text/x-python",
   "name": "python",
   "nbconvert_exporter": "python",
   "pygments_lexer": "ipython3",
   "version": "3.12.9"
  }
 },
 "nbformat": 4,
 "nbformat_minor": 5
}
